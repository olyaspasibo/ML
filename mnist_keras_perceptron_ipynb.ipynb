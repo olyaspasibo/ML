{
  "nbformat": 4,
  "nbformat_minor": 0,
  "metadata": {
    "colab": {
      "name": "mnist_keras_perceptron_ipynb.ipynb",
      "version": "0.3.2",
      "provenance": [],
      "include_colab_link": true
    },
    "kernelspec": {
      "name": "python3",
      "display_name": "Python 3"
    }
  },
  "cells": [
    {
      "cell_type": "markdown",
      "metadata": {
        "id": "view-in-github",
        "colab_type": "text"
      },
      "source": [
        "<a href=\"https://colab.research.google.com/github/olyaspasibo/ML/blob/master/mnist_keras_perceptron_ipynb.ipynb\" target=\"_parent\"><img src=\"https://colab.research.google.com/assets/colab-badge.svg\" alt=\"Open In Colab\"/></a>"
      ]
    },
    {
      "cell_type": "code",
      "metadata": {
        "id": "M-4wiSleuB7Z",
        "colab_type": "code",
        "colab": {
          "base_uri": "https://localhost:8080/",
          "height": 34
        },
        "outputId": "a89c8fcf-a76f-4c8e-d3a9-9b6263af64fd"
      },
      "source": [
        "import numpy as np\n",
        "import matplotlib.pyplot as plt\n",
        "\n",
        "from keras.datasets import mnist\n",
        "from keras.models import Sequential\n",
        "from keras.layers import Dense\n",
        "from keras.utils import np_utils"
      ],
      "execution_count": 1,
      "outputs": [
        {
          "output_type": "stream",
          "text": [
            "Using TensorFlow backend.\n"
          ],
          "name": "stderr"
        }
      ]
    },
    {
      "cell_type": "code",
      "metadata": {
        "id": "Rux1EKmTvRSz",
        "colab_type": "code",
        "colab": {}
      },
      "source": [
        "np.random.seed(7)"
      ],
      "execution_count": 0,
      "outputs": []
    },
    {
      "cell_type": "code",
      "metadata": {
        "id": "W1crc4EQvcJl",
        "colab_type": "code",
        "colab": {
          "base_uri": "https://localhost:8080/",
          "height": 51
        },
        "outputId": "b298236a-22de-4866-9d07-54c3ab5f64ae"
      },
      "source": [
        "(X_train, y_train), (X_test, y_test) = mnist.load_data()"
      ],
      "execution_count": 3,
      "outputs": [
        {
          "output_type": "stream",
          "text": [
            "Downloading data from https://s3.amazonaws.com/img-datasets/mnist.npz\n",
            "11493376/11490434 [==============================] - 0s 0us/step\n"
          ],
          "name": "stdout"
        }
      ]
    },
    {
      "cell_type": "code",
      "metadata": {
        "id": "2cWBJPpVvsII",
        "colab_type": "code",
        "colab": {}
      },
      "source": [
        "X_train.shape"
      ],
      "execution_count": 0,
      "outputs": []
    },
    {
      "cell_type": "code",
      "metadata": {
        "id": "ss1GkAeZvxOx",
        "colab_type": "code",
        "colab": {}
      },
      "source": [
        "y_train.shape"
      ],
      "execution_count": 0,
      "outputs": []
    },
    {
      "cell_type": "code",
      "metadata": {
        "id": "5ZDNApTEv0Fy",
        "colab_type": "code",
        "colab": {}
      },
      "source": [
        "X_train[0]"
      ],
      "execution_count": 0,
      "outputs": []
    },
    {
      "cell_type": "code",
      "metadata": {
        "id": "kdSILMIGv2E3",
        "colab_type": "code",
        "colab": {}
      },
      "source": [
        "y_train[0]"
      ],
      "execution_count": 0,
      "outputs": []
    },
    {
      "cell_type": "code",
      "metadata": {
        "id": "7I_D_0nnwpSG",
        "colab_type": "code",
        "colab": {
          "base_uri": "https://localhost:8080/",
          "height": 231
        },
        "outputId": "ab083e68-ed07-42a3-b9d5-c7ec5a95ea4b"
      },
      "source": [
        "%pylab inline\n",
        "fig, ax = plt.subplots(nrows=2, ncols=5, sharex=True, sharey=True)\n",
        "ax = ax.flatten()\n",
        "for i in range(10):\n",
        "  img = X_train[y_train == i][0].reshape(28,28)\n",
        "  ax[i].imshow(img, cmap='Greys', interpolation='nearest')\n",
        "ax[0].set_xticks([])\n",
        "ax[0].set_yticks([])\n",
        "show()"
      ],
      "execution_count": 4,
      "outputs": [
        {
          "output_type": "stream",
          "text": [
            "Populating the interactive namespace from numpy and matplotlib\n"
          ],
          "name": "stdout"
        },
        {
          "output_type": "display_data",
          "data": {
            "image/png": "[encoded data removed]",
            "text/plain": [
              "<Figure size 432x288 with 10 Axes>"
            ]
          },
          "metadata": {
            "tags": []
          }
        }
      ]
    },
    {
      "cell_type": "code",
      "metadata": {
        "id": "I6HN65w4xzfj",
        "colab_type": "code",
        "colab": {}
      },
      "source": [
        "# flatten  28*28 images to a 784 vector for each image\n",
        "num_pixels = X_train.shape[1] * X_train.shape[2]\n",
        "X_train = X_train.reshape(X_train.shape[0], num_pixels).astype('float32')\n",
        "X_test = X_test.reshape(X_test.shape[0], num_pixels).astype('float32')"
      ],
      "execution_count": 0,
      "outputs": []
    },
    {
      "cell_type": "code",
      "metadata": {
        "id": "3BnWIEEmJLxn",
        "colab_type": "code",
        "colab": {}
      },
      "source": [
        "X_train.shape"
      ],
      "execution_count": 0,
      "outputs": []
    },
    {
      "cell_type": "code",
      "metadata": {
        "id": "SEXCPO0TJO0P",
        "colab_type": "code",
        "colab": {}
      },
      "source": [
        "# normalize inputs from 0-255 to 0-1\n",
        "X_train = X_train / 255\n",
        "X_test = X_test / 255"
      ],
      "execution_count": 0,
      "outputs": []
    },
    {
      "cell_type": "code",
      "metadata": {
        "id": "E0zU9ePFyoa5",
        "colab_type": "code",
        "colab": {}
      },
      "source": [
        "X_train[0]"
      ],
      "execution_count": 0,
      "outputs": []
    },
    {
      "cell_type": "code",
      "metadata": {
        "id": "OHJjjqRkJIyk",
        "colab_type": "code",
        "colab": {}
      },
      "source": [
        ""
      ],
      "execution_count": 0,
      "outputs": []
    },
    {
      "cell_type": "code",
      "metadata": {
        "id": "k9CcZR1vysWy",
        "colab_type": "code",
        "colab": {}
      },
      "source": [
        "# one hot encode outputs\n",
        "y_train = np_utils.to_categorical(y_train)\n",
        "y_test = np_utils.to_categorical(y_test)\n",
        "num_classes = y_test.shape[1]"
      ],
      "execution_count": 0,
      "outputs": []
    },
    {
      "cell_type": "code",
      "metadata": {
        "id": "SzMQqjh2zFQ1",
        "colab_type": "code",
        "colab": {}
      },
      "source": [
        "y_train.shape"
      ],
      "execution_count": 0,
      "outputs": []
    },
    {
      "cell_type": "code",
      "metadata": {
        "id": "xYmoJlPnzI66",
        "colab_type": "code",
        "colab": {}
      },
      "source": [
        "y_train[0]"
      ],
      "execution_count": 0,
      "outputs": []
    },
    {
      "cell_type": "code",
      "metadata": {
        "id": "9fnRjYXc0AR0",
        "colab_type": "code",
        "colab": {}
      },
      "source": [
        "def build_model(optimizer='sgd'):\n",
        "  # create model\n",
        "  model = Sequential()\n",
        "  model.add(Dense(num_pixels, input_dim=num_pixels, kernel_initializer='normal', activation='relu'))\n",
        "  model.add(Dense(num_classes, kernel_initializer='normal', activation='softmax'))\n",
        "  \n",
        "  # compile model\n",
        "  model.compile(loss='categorical_crossentropy', optimizer=optimizer, metrics=['accuracy'])\n",
        "  return model"
      ],
      "execution_count": 0,
      "outputs": []
    },
    {
      "cell_type": "code",
      "metadata": {
        "id": "NHB5q5AP1Q0R",
        "colab_type": "code",
        "outputId": "b8dcdba6-382f-4217-d6a3-22c45dd02ae5",
        "colab": {
          "base_uri": "https://localhost:8080/",
          "height": 224
        }
      },
      "source": [
        "sgd_model = build_model()"
      ],
      "execution_count": 9,
      "outputs": [
        {
          "output_type": "stream",
          "text": [
            "WARNING: Logging before flag parsing goes to stderr.\n",
            "W0814 13:07:58.091815 140593012938624 deprecation_wrapper.py:119] From /usr/local/lib/python3.6/dist-packages/keras/backend/tensorflow_backend.py:74: The name tf.get_default_graph is deprecated. Please use tf.compat.v1.get_default_graph instead.\n",
            "\n",
            "W0814 13:07:58.132800 140593012938624 deprecation_wrapper.py:119] From /usr/local/lib/python3.6/dist-packages/keras/backend/tensorflow_backend.py:517: The name tf.placeholder is deprecated. Please use tf.compat.v1.placeholder instead.\n",
            "\n",
            "W0814 13:07:58.141115 140593012938624 deprecation_wrapper.py:119] From /usr/local/lib/python3.6/dist-packages/keras/backend/tensorflow_backend.py:4115: The name tf.random_normal is deprecated. Please use tf.random.normal instead.\n",
            "\n",
            "W0814 13:07:58.175595 140593012938624 deprecation_wrapper.py:119] From /usr/local/lib/python3.6/dist-packages/keras/optimizers.py:790: The name tf.train.Optimizer is deprecated. Please use tf.compat.v1.train.Optimizer instead.\n",
            "\n",
            "W0814 13:07:58.204431 140593012938624 deprecation_wrapper.py:119] From /usr/local/lib/python3.6/dist-packages/keras/backend/tensorflow_backend.py:3295: The name tf.log is deprecated. Please use tf.math.log instead.\n",
            "\n"
          ],
          "name": "stderr"
        }
      ]
    },
    {
      "cell_type": "code",
      "metadata": {
        "id": "ARjsTN5U1Wgo",
        "colab_type": "code",
        "outputId": "14f62eca-9065-4df6-ee9e-c34401da5f3c",
        "colab": {
          "base_uri": "https://localhost:8080/",
          "height": 544
        }
      },
      "source": [
        "sgd_model.get_config()"
      ],
      "execution_count": 10,
      "outputs": [
        {
          "output_type": "execute_result",
          "data": {
            "text/plain": [
              "{'layers': [{'class_name': 'Dense',\n",
              "   'config': {'activation': 'relu',\n",
              "    'activity_regularizer': None,\n",
              "    'batch_input_shape': (None, 784),\n",
              "    'bias_constraint': None,\n",
              "    'bias_initializer': {'class_name': 'Zeros', 'config': {}},\n",
              "    'bias_regularizer': None,\n",
              "    'dtype': 'float32',\n",
              "    'kernel_constraint': None,\n",
              "    'kernel_initializer': {'class_name': 'RandomNormal',\n",
              "     'config': {'mean': 0.0, 'seed': None, 'stddev': 0.05}},\n",
              "    'kernel_regularizer': None,\n",
              "    'name': 'dense_1',\n",
              "    'trainable': True,\n",
              "    'units': 784,\n",
              "    'use_bias': True}},\n",
              "  {'class_name': 'Dense',\n",
              "   'config': {'activation': 'softmax',\n",
              "    'activity_regularizer': None,\n",
              "    'bias_constraint': None,\n",
              "    'bias_initializer': {'class_name': 'Zeros', 'config': {}},\n",
              "    'bias_regularizer': None,\n",
              "    'kernel_constraint': None,\n",
              "    'kernel_initializer': {'class_name': 'RandomNormal',\n",
              "     'config': {'mean': 0.0, 'seed': None, 'stddev': 0.05}},\n",
              "    'kernel_regularizer': None,\n",
              "    'name': 'dense_2',\n",
              "    'trainable': True,\n",
              "    'units': 10,\n",
              "    'use_bias': True}}],\n",
              " 'name': 'sequential_1'}"
            ]
          },
          "metadata": {
            "tags": []
          },
          "execution_count": 10
        }
      ]
    },
    {
      "cell_type": "code",
      "metadata": {
        "id": "f76_V9EE0lUO",
        "colab_type": "code",
        "outputId": "40b9141e-5f16-4946-a602-16ecbece1d7b",
        "colab": {
          "base_uri": "https://localhost:8080/",
          "height": 479
        }
      },
      "source": [
        "# train the model\n",
        "sgd_history = sgd_model.fit(X_train, y_train, validation_data=(X_test, y_test), epochs=10, batch_size=200, verbose=1)"
      ],
      "execution_count": 11,
      "outputs": [
        {
          "output_type": "stream",
          "text": [
            "W0814 13:08:05.313390 140593012938624 deprecation.py:323] From /usr/local/lib/python3.6/dist-packages/tensorflow/python/ops/math_grad.py:1250: add_dispatch_support.<locals>.wrapper (from tensorflow.python.ops.array_ops) is deprecated and will be removed in a future version.\n",
            "Instructions for updating:\n",
            "Use tf.where in 2.0, which has the same broadcast rule as np.where\n",
            "W0814 13:08:05.368833 140593012938624 deprecation_wrapper.py:119] From /usr/local/lib/python3.6/dist-packages/keras/backend/tensorflow_backend.py:986: The name tf.assign_add is deprecated. Please use tf.compat.v1.assign_add instead.\n",
            "\n"
          ],
          "name": "stderr"
        },
        {
          "output_type": "stream",
          "text": [
            "Train on 60000 samples, validate on 10000 samples\n",
            "Epoch 1/10\n",
            "60000/60000 [==============================] - 6s 99us/step - loss: 1.1959 - acc: 0.7213 - val_loss: 0.7011 - val_acc: 0.8515\n",
            "Epoch 2/10\n",
            "60000/60000 [==============================] - 5s 89us/step - loss: 0.6046 - acc: 0.8589 - val_loss: 0.4957 - val_acc: 0.8819\n",
            "Epoch 3/10\n",
            "60000/60000 [==============================] - 5s 88us/step - loss: 0.4769 - acc: 0.8796 - val_loss: 0.4186 - val_acc: 0.8931\n",
            "Epoch 4/10\n",
            "60000/60000 [==============================] - 5s 88us/step - loss: 0.4183 - acc: 0.8909 - val_loss: 0.3774 - val_acc: 0.9002\n",
            "Epoch 5/10\n",
            "60000/60000 [==============================] - 5s 87us/step - loss: 0.3832 - acc: 0.8973 - val_loss: 0.3511 - val_acc: 0.9055\n",
            "Epoch 6/10\n",
            "60000/60000 [==============================] - 5s 90us/step - loss: 0.3590 - acc: 0.9025 - val_loss: 0.3326 - val_acc: 0.9085\n",
            "Epoch 7/10\n",
            "60000/60000 [==============================] - 5s 85us/step - loss: 0.3410 - acc: 0.9061 - val_loss: 0.3169 - val_acc: 0.9135\n",
            "Epoch 8/10\n",
            "60000/60000 [==============================] - 5s 86us/step - loss: 0.3264 - acc: 0.9097 - val_loss: 0.3049 - val_acc: 0.9167\n",
            "Epoch 9/10\n",
            "60000/60000 [==============================] - 5s 85us/step - loss: 0.3146 - acc: 0.9131 - val_loss: 0.2954 - val_acc: 0.9193\n",
            "Epoch 10/10\n",
            "60000/60000 [==============================] - 5s 85us/step - loss: 0.3044 - acc: 0.9155 - val_loss: 0.2868 - val_acc: 0.9221\n"
          ],
          "name": "stdout"
        }
      ]
    },
    {
      "cell_type": "code",
      "metadata": {
        "id": "A95yzCUl1426",
        "colab_type": "code",
        "outputId": "9e452de3-e2fb-4a78-be91-8e4440f46da7",
        "colab": {
          "base_uri": "https://localhost:8080/",
          "height": 51
        }
      },
      "source": [
        "# final evaluation of the model\n",
        "sgd_scores = sgd_model.evaluate(X_test, y_test, verbose=1)\n",
        "print(\"Baseline Error: %.2f%%\" % (100-sgd_scores[1]*100))"
      ],
      "execution_count": 12,
      "outputs": [
        {
          "output_type": "stream",
          "text": [
            "10000/10000 [==============================] - 1s 68us/step\n",
            "Baseline Error: 7.79%\n"
          ],
          "name": "stdout"
        }
      ]
    },
    {
      "cell_type": "code",
      "metadata": {
        "id": "_lpAwoi-2dZL",
        "colab_type": "code",
        "colab": {}
      },
      "source": [
        "sgd_history"
      ],
      "execution_count": 0,
      "outputs": []
    },
    {
      "cell_type": "code",
      "metadata": {
        "id": "cSz7jjt52gwL",
        "colab_type": "code",
        "colab": {}
      },
      "source": [
        "# list all data in history\n",
        "sgd_history.history.keys()"
      ],
      "execution_count": 0,
      "outputs": []
    },
    {
      "cell_type": "code",
      "metadata": {
        "id": "e-PhmkpT6K1O",
        "colab_type": "code",
        "colab": {}
      },
      "source": [
        "dict_keys(['val_loss', 'val_acc', 'loss', 'acc'])"
      ],
      "execution_count": 0,
      "outputs": []
    },
    {
      "cell_type": "code",
      "metadata": {
        "id": "uJmyE1sI6cQ6",
        "colab_type": "code",
        "colab": {}
      },
      "source": [
        "# summarize history for accuracy\n",
        "plt.plot(sgd_history.history['acc'])\n",
        "plt.plot(sgd_history.history['val_acc'])\n",
        "plt.title('sgd model loss')\n",
        "plt.ylabel('accuracy')\n",
        "plt.xlabel('epoch')\n",
        "plt.legend(['train', 'test'], loc='upper left')\n",
        "plt.show()"
      ],
      "execution_count": 0,
      "outputs": []
    },
    {
      "cell_type": "code",
      "metadata": {
        "id": "xirohjTA7V8S",
        "colab_type": "code",
        "colab": {}
      },
      "source": [
        "# summarize history for loss\n",
        "plt.plot(sgd_history.history['loss'])\n",
        "plt.plot(sgd_history.history['val_loss'])\n",
        "plt.title('sgd model loss')\n",
        "plt.ylabel('loss')\n",
        "plt.xlabel('epoch')\n",
        "plt.legend(['train', 'test'], loc='upper left')\n",
        "plt.show()"
      ],
      "execution_count": 0,
      "outputs": []
    },
    {
      "cell_type": "code",
      "metadata": {
        "id": "DGlOt2p374zR",
        "colab_type": "code",
        "colab": {}
      },
      "source": [
        "image_index = 370\n",
        "plt.imshow(X_test[image_index].reshape(28, 28), cmap='Greys')"
      ],
      "execution_count": 0,
      "outputs": []
    },
    {
      "cell_type": "code",
      "metadata": {
        "id": "z1pIDnzb8SFV",
        "colab_type": "code",
        "colab": {}
      },
      "source": [
        "pred = sgd_model.predict(X_test[image_index].reshape(1, 28*28))\n",
        "pred"
      ],
      "execution_count": 0,
      "outputs": []
    },
    {
      "cell_type": "code",
      "metadata": {
        "id": "4ZnWI3C18kxx",
        "colab_type": "code",
        "colab": {}
      },
      "source": [
        "np.argmax(pred)"
      ],
      "execution_count": 0,
      "outputs": []
    },
    {
      "cell_type": "code",
      "metadata": {
        "id": "7ab1Qeso87Cg",
        "colab_type": "code",
        "outputId": "ee367de2-8b79-48bf-90ac-f1e35ff1f84f",
        "colab": {
          "base_uri": "https://localhost:8080/",
          "height": 451
        }
      },
      "source": [
        "%%time\n",
        "adam_model = build_model(optimizer='adam')\n",
        "adam_history = adam_model.fit(X_train, y_train, validation_data=(X_test, y_test), epochs=10, batch_size=200, verbose=1)\n",
        "adam_scores = adam_model.evaluate(X_test, y_test, verbose=1)\n",
        "print(\"Baseline Error: %.2f%%\" % (100-adam_scores[1]*100))"
      ],
      "execution_count": 13,
      "outputs": [
        {
          "output_type": "stream",
          "text": [
            "Train on 60000 samples, validate on 10000 samples\n",
            "Epoch 1/10\n",
            "60000/60000 [==============================] - 7s 109us/step - loss: 0.2793 - acc: 0.9190 - val_loss: 0.1427 - val_acc: 0.9590\n",
            "Epoch 2/10\n",
            "60000/60000 [==============================] - 6s 107us/step - loss: 0.1097 - acc: 0.9681 - val_loss: 0.0927 - val_acc: 0.9725\n",
            "Epoch 3/10\n",
            "60000/60000 [==============================] - 6s 106us/step - loss: 0.0709 - acc: 0.9797 - val_loss: 0.0768 - val_acc: 0.9764\n",
            "Epoch 4/10\n",
            "60000/60000 [==============================] - 6s 107us/step - loss: 0.0499 - acc: 0.9850 - val_loss: 0.0705 - val_acc: 0.9782\n",
            "Epoch 5/10\n",
            "60000/60000 [==============================] - 6s 108us/step - loss: 0.0358 - acc: 0.9900 - val_loss: 0.0675 - val_acc: 0.9791\n",
            "Epoch 6/10\n",
            "60000/60000 [==============================] - 6s 107us/step - loss: 0.0251 - acc: 0.9934 - val_loss: 0.0667 - val_acc: 0.9785\n",
            "Epoch 7/10\n",
            "60000/60000 [==============================] - 6s 106us/step - loss: 0.0193 - acc: 0.9949 - val_loss: 0.0588 - val_acc: 0.9803\n",
            "Epoch 8/10\n",
            "60000/60000 [==============================] - 6s 106us/step - loss: 0.0144 - acc: 0.9967 - val_loss: 0.0568 - val_acc: 0.9824\n",
            "Epoch 9/10\n",
            "60000/60000 [==============================] - 6s 107us/step - loss: 0.0117 - acc: 0.9972 - val_loss: 0.0639 - val_acc: 0.9805\n",
            "Epoch 10/10\n",
            "60000/60000 [==============================] - 7s 109us/step - loss: 0.0080 - acc: 0.9985 - val_loss: 0.0587 - val_acc: 0.9818\n",
            "10000/10000 [==============================] - 1s 61us/step\n",
            "Baseline Error: 1.82%\n",
            "CPU times: user 1min 46s, sys: 5.63 s, total: 1min 51s\n",
            "Wall time: 1min 5s\n"
          ],
          "name": "stdout"
        }
      ]
    },
    {
      "cell_type": "code",
      "metadata": {
        "id": "0bG2F4wh92cT",
        "colab_type": "code",
        "colab": {}
      },
      "source": [
        "# summarize history for accuracy\n",
        "plt.plot(adam_history.history['acc'])\n",
        "plt.plot(adam_history.history['val_loss'])\n",
        "plt.title('adam model loss')\n",
        "plt.ylabel('accuracy')\n",
        "plt.xlabel('epoch')\n",
        "plt.legend(['train', 'test'], loc='upper left')\n",
        "plt.show()"
      ],
      "execution_count": 0,
      "outputs": []
    },
    {
      "cell_type": "code",
      "metadata": {
        "id": "sRO0Hqxd9-ho",
        "colab_type": "code",
        "colab": {}
      },
      "source": [
        "# summarize history for loss\n",
        "plt.plot(adam_history.history['loss'])\n",
        "plt.plot(adam_history.history['val_loss'])\n",
        "plt.title('adam model loss')\n",
        "plt.ylabel('loss')\n",
        "plt.xlabel('epoch')\n",
        "plt.legend(['train', 'test'], loc='upper left')\n",
        "plt.show()"
      ],
      "execution_count": 0,
      "outputs": []
    },
    {
      "cell_type": "code",
      "metadata": {
        "id": "-SbgU--L-L1u",
        "colab_type": "code",
        "colab": {}
      },
      "source": [
        "image_index = 370\n",
        "plt.imshow(X_test[image_index]).reshape(28, 28), cmap='Greys')"
      ],
      "execution_count": 0,
      "outputs": []
    },
    {
      "cell_type": "markdown",
      "metadata": {
        "id": "ijYzgPqPUb03",
        "colab_type": "text"
      },
      "source": [
        ""
      ]
    },
    {
      "cell_type": "code",
      "metadata": {
        "id": "2YPkfI2d_GnT",
        "colab_type": "code",
        "colab": {}
      },
      "source": [
        "\n",
        "pred = adam_model.predict(X_test[image_index].reshape(1, 28*28))\n",
        "pred"
      ],
      "execution_count": 0,
      "outputs": []
    },
    {
      "cell_type": "code",
      "metadata": {
        "id": "ko2Zf0en_djv",
        "colab_type": "code",
        "colab": {}
      },
      "source": [
        "np.argmax(pred)"
      ],
      "execution_count": 0,
      "outputs": []
    }
  ]
}